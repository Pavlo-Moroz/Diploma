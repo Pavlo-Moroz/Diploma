{
  "nbformat": 4,
  "nbformat_minor": 0,
  "metadata": {
    "colab": {
      "provenance": []
    },
    "kernelspec": {
      "name": "python3",
      "display_name": "Python 3"
    },
    "language_info": {
      "name": "python"
    }
  },
  "cells": [
    {
      "cell_type": "code",
      "source": [
        "import pandas as pd\n",
        "from sklearn.preprocessing import MinMaxScaler\n",
        "from keras.models import Sequential\n",
        "from keras.layers import Dense, LSTM, Bidirectional\n",
        "\n",
        "# Load data\n",
        "mode = 'Daily'#or Weekly\n",
        "datatype = 'crimes'\n",
        "data = pd.read_csv('cleared_data.csv', index_col = 'DATE OCC', parse_dates = ['DATE OCC'])#Enter name for the datafile and column with data that is the index\n",
        "data = data.resample('w' if mode == 'Weekly' else 'd').sum()\n",
        "\n"
      ],
      "metadata": {
        "id": "xBiwPpHp0lbL"
      },
      "execution_count": null,
      "outputs": []
    },
    {
      "cell_type": "code",
      "source": [
        "data"
      ],
      "metadata": {
        "id": "PaXLS9flfC50",
        "colab": {
          "base_uri": "https://localhost:8080/",
          "height": 450
        },
        "outputId": "b129315b-bff0-4c68-8d62-253547b2905f"
      },
      "execution_count": null,
      "outputs": [
        {
          "output_type": "execute_result",
          "data": {
            "text/plain": [
              "            count\n",
              "DATE OCC         \n",
              "2016-01-03    317\n",
              "2016-01-10    248\n",
              "2016-01-17    250\n",
              "2016-01-24    260\n",
              "2016-01-31    245\n",
              "...           ...\n",
              "2020-06-07    242\n",
              "2020-06-14    295\n",
              "2020-06-21    269\n",
              "2020-06-28    251\n",
              "2020-07-05    274\n",
              "\n",
              "[236 rows x 1 columns]"
            ],
            "text/html": [
              "\n",
              "  <div id=\"df-83486c4f-9b3f-4710-b46e-35de1dd90d9e\">\n",
              "    <div class=\"colab-df-container\">\n",
              "      <div>\n",
              "<style scoped>\n",
              "    .dataframe tbody tr th:only-of-type {\n",
              "        vertical-align: middle;\n",
              "    }\n",
              "\n",
              "    .dataframe tbody tr th {\n",
              "        vertical-align: top;\n",
              "    }\n",
              "\n",
              "    .dataframe thead th {\n",
              "        text-align: right;\n",
              "    }\n",
              "</style>\n",
              "<table border=\"1\" class=\"dataframe\">\n",
              "  <thead>\n",
              "    <tr style=\"text-align: right;\">\n",
              "      <th></th>\n",
              "      <th>count</th>\n",
              "    </tr>\n",
              "    <tr>\n",
              "      <th>DATE OCC</th>\n",
              "      <th></th>\n",
              "    </tr>\n",
              "  </thead>\n",
              "  <tbody>\n",
              "    <tr>\n",
              "      <th>2016-01-03</th>\n",
              "      <td>317</td>\n",
              "    </tr>\n",
              "    <tr>\n",
              "      <th>2016-01-10</th>\n",
              "      <td>248</td>\n",
              "    </tr>\n",
              "    <tr>\n",
              "      <th>2016-01-17</th>\n",
              "      <td>250</td>\n",
              "    </tr>\n",
              "    <tr>\n",
              "      <th>2016-01-24</th>\n",
              "      <td>260</td>\n",
              "    </tr>\n",
              "    <tr>\n",
              "      <th>2016-01-31</th>\n",
              "      <td>245</td>\n",
              "    </tr>\n",
              "    <tr>\n",
              "      <th>...</th>\n",
              "      <td>...</td>\n",
              "    </tr>\n",
              "    <tr>\n",
              "      <th>2020-06-07</th>\n",
              "      <td>242</td>\n",
              "    </tr>\n",
              "    <tr>\n",
              "      <th>2020-06-14</th>\n",
              "      <td>295</td>\n",
              "    </tr>\n",
              "    <tr>\n",
              "      <th>2020-06-21</th>\n",
              "      <td>269</td>\n",
              "    </tr>\n",
              "    <tr>\n",
              "      <th>2020-06-28</th>\n",
              "      <td>251</td>\n",
              "    </tr>\n",
              "    <tr>\n",
              "      <th>2020-07-05</th>\n",
              "      <td>274</td>\n",
              "    </tr>\n",
              "  </tbody>\n",
              "</table>\n",
              "<p>236 rows × 1 columns</p>\n",
              "</div>\n",
              "      <button class=\"colab-df-convert\" onclick=\"convertToInteractive('df-83486c4f-9b3f-4710-b46e-35de1dd90d9e')\"\n",
              "              title=\"Convert this dataframe to an interactive table.\"\n",
              "              style=\"display:none;\">\n",
              "        \n",
              "  <svg xmlns=\"http://www.w3.org/2000/svg\" height=\"24px\"viewBox=\"0 0 24 24\"\n",
              "       width=\"24px\">\n",
              "    <path d=\"M0 0h24v24H0V0z\" fill=\"none\"/>\n",
              "    <path d=\"M18.56 5.44l.94 2.06.94-2.06 2.06-.94-2.06-.94-.94-2.06-.94 2.06-2.06.94zm-11 1L8.5 8.5l.94-2.06 2.06-.94-2.06-.94L8.5 2.5l-.94 2.06-2.06.94zm10 10l.94 2.06.94-2.06 2.06-.94-2.06-.94-.94-2.06-.94 2.06-2.06.94z\"/><path d=\"M17.41 7.96l-1.37-1.37c-.4-.4-.92-.59-1.43-.59-.52 0-1.04.2-1.43.59L10.3 9.45l-7.72 7.72c-.78.78-.78 2.05 0 2.83L4 21.41c.39.39.9.59 1.41.59.51 0 1.02-.2 1.41-.59l7.78-7.78 2.81-2.81c.8-.78.8-2.07 0-2.86zM5.41 20L4 18.59l7.72-7.72 1.47 1.35L5.41 20z\"/>\n",
              "  </svg>\n",
              "      </button>\n",
              "      \n",
              "  <style>\n",
              "    .colab-df-container {\n",
              "      display:flex;\n",
              "      flex-wrap:wrap;\n",
              "      gap: 12px;\n",
              "    }\n",
              "\n",
              "    .colab-df-convert {\n",
              "      background-color: #E8F0FE;\n",
              "      border: none;\n",
              "      border-radius: 50%;\n",
              "      cursor: pointer;\n",
              "      display: none;\n",
              "      fill: #1967D2;\n",
              "      height: 32px;\n",
              "      padding: 0 0 0 0;\n",
              "      width: 32px;\n",
              "    }\n",
              "\n",
              "    .colab-df-convert:hover {\n",
              "      background-color: #E2EBFA;\n",
              "      box-shadow: 0px 1px 2px rgba(60, 64, 67, 0.3), 0px 1px 3px 1px rgba(60, 64, 67, 0.15);\n",
              "      fill: #174EA6;\n",
              "    }\n",
              "\n",
              "    [theme=dark] .colab-df-convert {\n",
              "      background-color: #3B4455;\n",
              "      fill: #D2E3FC;\n",
              "    }\n",
              "\n",
              "    [theme=dark] .colab-df-convert:hover {\n",
              "      background-color: #434B5C;\n",
              "      box-shadow: 0px 1px 3px 1px rgba(0, 0, 0, 0.15);\n",
              "      filter: drop-shadow(0px 1px 2px rgba(0, 0, 0, 0.3));\n",
              "      fill: #FFFFFF;\n",
              "    }\n",
              "  </style>\n",
              "\n",
              "      <script>\n",
              "        const buttonEl =\n",
              "          document.querySelector('#df-83486c4f-9b3f-4710-b46e-35de1dd90d9e button.colab-df-convert');\n",
              "        buttonEl.style.display =\n",
              "          google.colab.kernel.accessAllowed ? 'block' : 'none';\n",
              "\n",
              "        async function convertToInteractive(key) {\n",
              "          const element = document.querySelector('#df-83486c4f-9b3f-4710-b46e-35de1dd90d9e');\n",
              "          const dataTable =\n",
              "            await google.colab.kernel.invokeFunction('convertToInteractive',\n",
              "                                                     [key], {});\n",
              "          if (!dataTable) return;\n",
              "\n",
              "          const docLinkHtml = 'Like what you see? Visit the ' +\n",
              "            '<a target=\"_blank\" href=https://colab.research.google.com/notebooks/data_table.ipynb>data table notebook</a>'\n",
              "            + ' to learn more about interactive tables.';\n",
              "          element.innerHTML = '';\n",
              "          dataTable['output_type'] = 'display_data';\n",
              "          await google.colab.output.renderOutput(dataTable, element);\n",
              "          const docLink = document.createElement('div');\n",
              "          docLink.innerHTML = docLinkHtml;\n",
              "          element.appendChild(docLink);\n",
              "        }\n",
              "      </script>\n",
              "    </div>\n",
              "  </div>\n",
              "  "
            ]
          },
          "metadata": {},
          "execution_count": 2
        }
      ]
    },
    {
      "cell_type": "code",
      "source": [
        "import numpy as np\n",
        "import pywt\n",
        "import matplotlib.pyplot as plt\n",
        "from keras.models import Sequential\n",
        "from keras.layers import LSTM, Dense\n",
        "from sklearn.preprocessing import MinMaxScaler\n",
        "from sklearn.model_selection import train_test_split\n",
        "from tensorflow.keras.models import Sequential\n",
        "from tensorflow.keras.layers import LSTM, Dense, Dropout\n",
        "from tensorflow.keras.optimizers import Adam\n",
        "\n",
        "# Assuming 'data' is your cumulative COVID-19 case data\n",
        "data = np.array(data['count'])\n",
        "\n",
        "# Normalize the data\n",
        "scaler = MinMaxScaler(feature_range=(0, 1))\n",
        "data = scaler.fit_transform(data.reshape(-1, 1))\n",
        "\n",
        "X, y = [], []\n",
        "back_len = 4\n",
        "\n",
        "for i in range(back_len, len(data)):\n",
        "    X.append(data[i-back_len:i])\n",
        "    y.append(data[i])\n",
        "X = np.array(X)\n",
        "y = np.array(y)\n",
        "\n",
        "X = np.reshape(X, (X.shape[0], X.shape[1], 1))\n",
        "\n",
        "test_size = 8\n",
        "X_train, X_test, y_train, y_test = X[:-test_size],X[-test_size:],y[:-test_size],y[-test_size:]\n",
        "\n",
        "\n",
        "\n",
        "model = Sequential()\n",
        "model.add(LSTM(50, input_shape=(X_train.shape[1], 1)))\n",
        "model.add(Dense(1))\n",
        "model.compile(loss='mean_squared_error', optimizer='adam')\n",
        "history = model.fit(X_train, y_train, epochs=50, batch_size=1)\n",
        "\n"
      ],
      "metadata": {
        "colab": {
          "base_uri": "https://localhost:8080/"
        },
        "id": "SdSIVe8pLPS6",
        "outputId": "99b89260-3352-46ee-858f-16543fc6b0ba"
      },
      "execution_count": null,
      "outputs": [
        {
          "output_type": "stream",
          "name": "stdout",
          "text": [
            "Epoch 1/50\n",
            "224/224 [==============================] - 4s 4ms/step - loss: 0.0425\n",
            "Epoch 2/50\n",
            "224/224 [==============================] - 1s 3ms/step - loss: 0.0347\n",
            "Epoch 3/50\n",
            "224/224 [==============================] - 1s 3ms/step - loss: 0.0347\n",
            "Epoch 4/50\n",
            "224/224 [==============================] - 1s 4ms/step - loss: 0.0336\n",
            "Epoch 5/50\n",
            "224/224 [==============================] - 1s 4ms/step - loss: 0.0338\n",
            "Epoch 6/50\n",
            "224/224 [==============================] - 1s 5ms/step - loss: 0.0346\n",
            "Epoch 7/50\n",
            "224/224 [==============================] - 1s 4ms/step - loss: 0.0334\n",
            "Epoch 8/50\n",
            "224/224 [==============================] - 1s 3ms/step - loss: 0.0339\n",
            "Epoch 9/50\n",
            "224/224 [==============================] - 1s 4ms/step - loss: 0.0336\n",
            "Epoch 10/50\n",
            "224/224 [==============================] - 1s 4ms/step - loss: 0.0337\n",
            "Epoch 11/50\n",
            "224/224 [==============================] - 1s 5ms/step - loss: 0.0340\n",
            "Epoch 12/50\n",
            "224/224 [==============================] - 1s 6ms/step - loss: 0.0340\n",
            "Epoch 13/50\n",
            "224/224 [==============================] - 1s 6ms/step - loss: 0.0326\n",
            "Epoch 14/50\n",
            "224/224 [==============================] - 1s 4ms/step - loss: 0.0337\n",
            "Epoch 15/50\n",
            "224/224 [==============================] - 1s 4ms/step - loss: 0.0333\n",
            "Epoch 16/50\n",
            "224/224 [==============================] - 1s 3ms/step - loss: 0.0339\n",
            "Epoch 17/50\n",
            "224/224 [==============================] - 1s 3ms/step - loss: 0.0344\n",
            "Epoch 18/50\n",
            "224/224 [==============================] - 1s 4ms/step - loss: 0.0338\n",
            "Epoch 19/50\n",
            "224/224 [==============================] - 1s 4ms/step - loss: 0.0338\n",
            "Epoch 20/50\n",
            "224/224 [==============================] - 1s 4ms/step - loss: 0.0344\n",
            "Epoch 21/50\n",
            "224/224 [==============================] - 1s 4ms/step - loss: 0.0334\n",
            "Epoch 22/50\n",
            "224/224 [==============================] - 1s 3ms/step - loss: 0.0347\n",
            "Epoch 23/50\n",
            "224/224 [==============================] - 1s 3ms/step - loss: 0.0343\n",
            "Epoch 24/50\n",
            "224/224 [==============================] - 1s 4ms/step - loss: 0.0332\n",
            "Epoch 25/50\n",
            "224/224 [==============================] - 1s 4ms/step - loss: 0.0347\n",
            "Epoch 26/50\n",
            "224/224 [==============================] - 1s 5ms/step - loss: 0.0338\n",
            "Epoch 27/50\n",
            "224/224 [==============================] - 1s 5ms/step - loss: 0.0337\n",
            "Epoch 28/50\n",
            "224/224 [==============================] - 1s 4ms/step - loss: 0.0335\n",
            "Epoch 29/50\n",
            "224/224 [==============================] - 1s 4ms/step - loss: 0.0337\n",
            "Epoch 30/50\n",
            "224/224 [==============================] - 1s 4ms/step - loss: 0.0342\n",
            "Epoch 31/50\n",
            "224/224 [==============================] - 1s 4ms/step - loss: 0.0340\n",
            "Epoch 32/50\n",
            "224/224 [==============================] - 1s 3ms/step - loss: 0.0343\n",
            "Epoch 33/50\n",
            "224/224 [==============================] - 1s 3ms/step - loss: 0.0338\n",
            "Epoch 34/50\n",
            "224/224 [==============================] - 1s 3ms/step - loss: 0.0341\n",
            "Epoch 35/50\n",
            "224/224 [==============================] - 1s 4ms/step - loss: 0.0336\n",
            "Epoch 36/50\n",
            "224/224 [==============================] - 1s 3ms/step - loss: 0.0342\n",
            "Epoch 37/50\n",
            "224/224 [==============================] - 1s 3ms/step - loss: 0.0336\n",
            "Epoch 38/50\n",
            "224/224 [==============================] - 1s 4ms/step - loss: 0.0334\n",
            "Epoch 39/50\n",
            "224/224 [==============================] - 1s 3ms/step - loss: 0.0338\n",
            "Epoch 40/50\n",
            "224/224 [==============================] - 1s 3ms/step - loss: 0.0334\n",
            "Epoch 41/50\n",
            "224/224 [==============================] - 1s 4ms/step - loss: 0.0337\n",
            "Epoch 42/50\n",
            "224/224 [==============================] - 1s 5ms/step - loss: 0.0338\n",
            "Epoch 43/50\n",
            "224/224 [==============================] - 1s 5ms/step - loss: 0.0341\n",
            "Epoch 44/50\n",
            "224/224 [==============================] - 1s 3ms/step - loss: 0.0336\n",
            "Epoch 45/50\n",
            "224/224 [==============================] - 1s 3ms/step - loss: 0.0336\n",
            "Epoch 46/50\n",
            "224/224 [==============================] - 1s 4ms/step - loss: 0.0335\n",
            "Epoch 47/50\n",
            "224/224 [==============================] - 1s 3ms/step - loss: 0.0332\n",
            "Epoch 48/50\n",
            "224/224 [==============================] - 1s 5ms/step - loss: 0.0332\n",
            "Epoch 49/50\n",
            "224/224 [==============================] - 1s 5ms/step - loss: 0.0332\n",
            "Epoch 50/50\n",
            "224/224 [==============================] - 1s 3ms/step - loss: 0.0335\n"
          ]
        }
      ]
    },
    {
      "cell_type": "code",
      "source": [
        "y_test"
      ],
      "metadata": {
        "id": "mSUfDatHIuuP",
        "colab": {
          "base_uri": "https://localhost:8080/"
        },
        "outputId": "28417687-4915-4544-cfb7-0339333770fd"
      },
      "execution_count": null,
      "outputs": [
        {
          "output_type": "execute_result",
          "data": {
            "text/plain": [
              "array([[0.32352941],\n",
              "       [0.13235294],\n",
              "       [0.22794118],\n",
              "       [0.05147059],\n",
              "       [0.44117647],\n",
              "       [0.25      ],\n",
              "       [0.11764706],\n",
              "       [0.28676471]])"
            ]
          },
          "metadata": {},
          "execution_count": 54
        }
      ]
    },
    {
      "cell_type": "code",
      "source": [
        "model.predict(X_test)"
      ],
      "metadata": {
        "colab": {
          "base_uri": "https://localhost:8080/"
        },
        "id": "2LOJpJWxiq6f",
        "outputId": "448e5bff-632b-4a95-9b73-2d3799692fce"
      },
      "execution_count": null,
      "outputs": [
        {
          "output_type": "stream",
          "name": "stderr",
          "text": [
            "WARNING:tensorflow:6 out of the last 20 calls to <function Model.make_predict_function.<locals>.predict_function at 0x7f757d876200> triggered tf.function retracing. Tracing is expensive and the excessive number of tracings could be due to (1) creating @tf.function repeatedly in a loop, (2) passing tensors with different shapes, (3) passing Python objects instead of tensors. For (1), please define your @tf.function outside of the loop. For (2), @tf.function has reduce_retracing=True option that can avoid unnecessary retracing. For (3), please refer to https://www.tensorflow.org/guide/function#controlling_retracing and https://www.tensorflow.org/api_docs/python/tf/function for  more details.\n"
          ]
        },
        {
          "output_type": "stream",
          "name": "stdout",
          "text": [
            "1/1 [==============================] - 1s 799ms/step\n"
          ]
        },
        {
          "output_type": "execute_result",
          "data": {
            "text/plain": [
              "array([[0.31774598],\n",
              "       [0.3491499 ],\n",
              "       [0.33060938],\n",
              "       [0.31736457],\n",
              "       [0.29469416],\n",
              "       [0.27881134],\n",
              "       [0.30367717],\n",
              "       [0.30062115]], dtype=float32)"
            ]
          },
          "metadata": {},
          "execution_count": 55
        }
      ]
    },
    {
      "cell_type": "code",
      "source": [
        "plt.plot(np.concatenate([y_train,y_test]), color='blue', label='Actual')\n"
      ],
      "metadata": {
        "colab": {
          "base_uri": "https://localhost:8080/",
          "height": 447
        },
        "id": "xTTMdgGznv5q",
        "outputId": "60a1f172-363a-4213-827f-6415014dda66"
      },
      "execution_count": null,
      "outputs": [
        {
          "output_type": "execute_result",
          "data": {
            "text/plain": [
              "[<matplotlib.lines.Line2D at 0x7f757e3d1690>]"
            ]
          },
          "metadata": {},
          "execution_count": 56
        },
        {
          "output_type": "display_data",
          "data": {
            "text/plain": [
              "<Figure size 640x480 with 1 Axes>"
            ],
            "image/png": "[encoded data removed]"
          },
          "metadata": {}
        }
      ]
    },
    {
      "cell_type": "code",
      "source": [
        "# Generate predictions on the test data\n",
        "y_test_predictions = model.predict(X_test)\n",
        "\n",
        "# Plot the actual and predicted values for y_test\n",
        "plt.plot(scaler.inverse_transform(y_test), color='blue', label='Actual')\n",
        "plt.plot(scaler.inverse_transform(y_test_predictions), color='red', label='Predicted')\n",
        "plt.title('Actual vs. Predicted values for y_test')\n",
        "plt.xlabel('Time')\n",
        "plt.ylabel('Value')\n",
        "plt.legend()\n",
        "plt.show()\n"
      ],
      "metadata": {
        "colab": {
          "base_uri": "https://localhost:8080/",
          "height": 489
        },
        "id": "LF8YNkThIuTO",
        "outputId": "752197e2-0ce1-4c26-ca3f-f253b1b3e79c"
      },
      "execution_count": null,
      "outputs": [
        {
          "output_type": "stream",
          "name": "stdout",
          "text": [
            "1/1 [==============================] - 0s 129ms/step\n"
          ]
        },
        {
          "output_type": "display_data",
          "data": {
            "text/plain": [
              "<Figure size 640x480 with 1 Axes>"
            ],
            "image/png": "[encoded data removed]"
          },
          "metadata": {}
        }
      ]
    },
    {
      "cell_type": "code",
      "source": [
        "model.summary()"
      ],
      "metadata": {
        "colab": {
          "base_uri": "https://localhost:8080/"
        },
        "id": "ou9VMySX5dzO",
        "outputId": "f702e957-e825-4b15-9bb4-60f4bf16c8f2"
      },
      "execution_count": null,
      "outputs": [
        {
          "output_type": "stream",
          "name": "stdout",
          "text": [
            "Model: \"sequential\"\n",
            "_________________________________________________________________\n",
            " Layer (type)                Output Shape              Param #   \n",
            "=================================================================\n",
            " lstm (LSTM)                 (None, 50)                10400     \n",
            "                                                                 \n",
            " dense (Dense)               (None, 1)                 51        \n",
            "                                                                 \n",
            "=================================================================\n",
            "Total params: 10,451\n",
            "Trainable params: 10,451\n",
            "Non-trainable params: 0\n",
            "_________________________________________________________________\n"
          ]
        }
      ]
    },
    {
      "cell_type": "code",
      "source": [
        "from sklearn.metrics import mean_absolute_percentage_error\n",
        "mean_absolute_percentage_error(scaler.inverse_transform(y_test),scaler.inverse_transform(y_test_predictions))\n"
      ],
      "metadata": {
        "colab": {
          "base_uri": "https://localhost:8080/"
        },
        "id": "8tjtu5fDLUdE",
        "outputId": "4cb43cd9-19b9-468d-8dcb-8ebac95ee6e2"
      },
      "execution_count": null,
      "outputs": [
        {
          "output_type": "execute_result",
          "data": {
            "text/plain": [
              "0.07211302459906913"
            ]
          },
          "metadata": {},
          "execution_count": 6
        }
      ]
    },
    {
      "cell_type": "code",
      "source": [
        "reshaped = np.array(y_test_predictions).reshape(len(y_test_predictions),).astype('int64')\n",
        "reshaped"
      ],
      "metadata": {
        "id": "z6Kp005mLU3p",
        "colab": {
          "base_uri": "https://localhost:8080/"
        },
        "outputId": "e2436f9e-6b30-4621-8302-1a819e96ca83"
      },
      "execution_count": null,
      "outputs": [
        {
          "output_type": "execute_result",
          "data": {
            "text/plain": [
              "array([280, 284, 279, 278, 272, 276, 278, 276])"
            ]
          },
          "metadata": {},
          "execution_count": 77
        }
      ]
    },
    {
      "cell_type": "code",
      "source": [
        "np.savetxt(f'LSTM_{mode}_{datatype}.txt',forecast)"
      ],
      "metadata": {
        "id": "XjVweLMef2zo"
      },
      "execution_count": null,
      "outputs": []
    }
  ]
}