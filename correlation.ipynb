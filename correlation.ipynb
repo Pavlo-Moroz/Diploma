{
 "cells": [
  {
   "cell_type": "code",
   "execution_count": 4,
   "metadata": {},
   "outputs": [],
   "source": [
    "import pandas as pd \n",
    "import numpy as np"
   ]
  },
  {
   "cell_type": "code",
   "execution_count": null,
   "metadata": {},
   "outputs": [],
   "source": [
    "mode = 'weekly'"
   ]
  },
  {
   "cell_type": "code",
   "execution_count": 10,
   "metadata": {},
   "outputs": [],
   "source": [
    "crime_data = pd.read_csv('dataset_concat_cleared.csv',index_col='DATE OCC',parse_dates=['DATE OCC'])\n",
    "crime_data = crime_data.resample('w' if mode == 'weekly' else 'd').sum()"
   ]
  },
  {
   "cell_type": "code",
   "execution_count": 8,
   "metadata": {},
   "outputs": [],
   "source": [
    "crimes2020 = np.array(crime_data['2020-05-11':'2020-07-05'])"
   ]
  },
  {
   "cell_type": "code",
   "execution_count": 11,
   "metadata": {},
   "outputs": [],
   "source": [
    "LSTM_CRIMES = pd.read_csv(f'LSTM_crimes_{mode}.txt',header=None)\n",
    "SARIMA_CRIMES = pd.read_csv(f'SARIMA_crimes_{mode}.txt',header=None)\n",
    "ARIMA_CRIMES = pd.read_csv(f'ARIMA_crimes_{mode}.txt',header=None)\n",
    "\n",
    "ARIMA_COVID = pd.read_csv(f'ARIMA_covid_{mode}.txt',header=None)\n",
    "LSTM_COVID = pd.read_csv(f'LSTM_covid_{mode}.txt',header=None)"
   ]
  },
  {
   "cell_type": "code",
   "execution_count": 25,
   "metadata": {},
   "outputs": [],
   "source": [
    "crimes = np.array(LSTM_CRIMES[LSTM_CRIMES.columns[0]])\n",
    "crimes1 = np.array(ARIMA_CRIMES[ARIMA_CRIMES.columns[0]])\n",
    "crimes2 = np.array(SARIMA_CRIMES[SARIMA_CRIMES.columns[0]])\n",
    "\n",
    "covid = np.array(ARIMA_COVID[ARIMA_COVID.columns[0]])\n",
    "covid1 = np.array(LSTM_COVID[LSTM_COVID.columns[0]])"
   ]
  },
  {
   "cell_type": "code",
   "execution_count": 20,
   "metadata": {},
   "outputs": [],
   "source": [
    "crime_2019_resh = crimes2019.reshape(8,)"
   ]
  },
  {
   "attachments": {},
   "cell_type": "markdown",
   "metadata": {},
   "source": [
    "crime - LSTM\n",
    "crime1 - ARIMA\n",
    "crime2 - SARIMA\n",
    "\n",
    "covid - arima\n",
    "covid1 - lstm"
   ]
  },
  {
   "cell_type": "code",
   "execution_count": null,
   "metadata": {},
   "outputs": [],
   "source": [
    "crimes_diff = crime_2019_resh - crimes\n",
    "np.corrcoef(crimes_diff,covid1)"
   ]
  }
 ],
 "metadata": {
  "kernelspec": {
   "display_name": "venv",
   "language": "python",
   "name": "python3"
  },
  "language_info": {
   "codemirror_mode": {
    "name": "ipython",
    "version": 3
   },
   "file_extension": ".py",
   "mimetype": "text/x-python",
   "name": "python",
   "nbconvert_exporter": "python",
   "pygments_lexer": "ipython3",
   "version": "3.10.4"
  },
  "orig_nbformat": 4
 },
 "nbformat": 4,
 "nbformat_minor": 2
}
